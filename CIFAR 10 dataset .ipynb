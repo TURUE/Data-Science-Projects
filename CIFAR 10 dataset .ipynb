{
 "cells": [
  {
   "cell_type": "code",
   "execution_count": 1,
   "id": "acb91d1d",
   "metadata": {},
   "outputs": [],
   "source": [
    "#in this dataset, there are ten categories of items in the dataset. \n",
    "import tensorflow as tf\n",
    "from tensorflow.keras import datasets, layers, models\n",
    "import matplotlib.pyplot as plt\n",
    "import numpy as np\n",
    "import tensorflow.keras as keras"
   ]
  },
  {
   "cell_type": "code",
   "execution_count": 2,
   "id": "df3a613d",
   "metadata": {},
   "outputs": [
    {
     "data": {
      "text/plain": [
       "(50000, 32, 32, 3)"
      ]
     },
     "execution_count": 2,
     "metadata": {},
     "output_type": "execute_result"
    }
   ],
   "source": [
    "(X_train, y_train), (X_test, y_test)= datasets.cifar10.load_data()\n",
    "X_train.shape"
   ]
  },
  {
   "cell_type": "code",
   "execution_count": 3,
   "id": "663fdde9",
   "metadata": {},
   "outputs": [
    {
     "data": {
      "text/plain": [
       "(10000, 32, 32, 3)"
      ]
     },
     "execution_count": 3,
     "metadata": {},
     "output_type": "execute_result"
    }
   ],
   "source": [
    "X_test.shape"
   ]
  },
  {
   "cell_type": "code",
   "execution_count": null,
   "id": "3b6cfaea",
   "metadata": {},
   "outputs": [],
   "source": []
  },
  {
   "cell_type": "code",
   "execution_count": 4,
   "id": "facac612",
   "metadata": {},
   "outputs": [
    {
     "data": {
      "text/plain": [
       "(50000, 32, 32, 3)"
      ]
     },
     "execution_count": 4,
     "metadata": {},
     "output_type": "execute_result"
    }
   ],
   "source": [
    "X_train.shape"
   ]
  },
  {
   "cell_type": "code",
   "execution_count": null,
   "id": "ef8c2ef1",
   "metadata": {},
   "outputs": [],
   "source": []
  },
  {
   "cell_type": "code",
   "execution_count": 5,
   "id": "e8b706a4",
   "metadata": {},
   "outputs": [
    {
     "data": {
      "text/plain": [
       "<matplotlib.image.AxesImage at 0x21eb753f910>"
      ]
     },
     "execution_count": 5,
     "metadata": {},
     "output_type": "execute_result"
    },
    {
     "data": {
      "image/png": "[encoded data removed]",
      "text/plain": [
       "<Figure size 1500x200 with 1 Axes>"
      ]
     },
     "metadata": {},
     "output_type": "display_data"
    }
   ],
   "source": [
    "plt.figure(figsize= (15,2))\n",
    "plt.imshow(X_train[1])"
   ]
  },
  {
   "cell_type": "code",
   "execution_count": 6,
   "id": "352e0c5a",
   "metadata": {},
   "outputs": [
    {
     "data": {
      "text/plain": [
       "array([[6],\n",
       "       [9],\n",
       "       [9],\n",
       "       [4],\n",
       "       [1]], dtype=uint8)"
      ]
     },
     "execution_count": 6,
     "metadata": {},
     "output_type": "execute_result"
    }
   ],
   "source": [
    "y_train[:5]"
   ]
  },
  {
   "cell_type": "code",
   "execution_count": 7,
   "id": "9cdefcac",
   "metadata": {},
   "outputs": [
    {
     "data": {
      "text/plain": [
       "array([6, 9, 9, 4, 1], dtype=uint8)"
      ]
     },
     "execution_count": 7,
     "metadata": {},
     "output_type": "execute_result"
    }
   ],
   "source": [
    "y_train=y_train.reshape(-1)\n",
    "y_train[:5]"
   ]
  },
  {
   "cell_type": "code",
   "execution_count": 8,
   "id": "9bc47ee2",
   "metadata": {},
   "outputs": [
    {
     "data": {
      "text/plain": [
       "(50000,)"
      ]
     },
     "execution_count": 8,
     "metadata": {},
     "output_type": "execute_result"
    }
   ],
   "source": [
    "y_train.shape"
   ]
  },
  {
   "cell_type": "code",
   "execution_count": 9,
   "id": "b3f6f180",
   "metadata": {},
   "outputs": [],
   "source": [
    "classes=['airplane', 'automobile', 'bird', 'cat', 'deer', 'dog', 'frog', 'horse', 'ship', 'truck']"
   ]
  },
  {
   "cell_type": "code",
   "execution_count": 10,
   "id": "4c81bb74",
   "metadata": {},
   "outputs": [],
   "source": [
    "def plot_sample (X, y, index):\n",
    "    plt.figure(figsize=(15,2))\n",
    "    plt.imshow(X[index])\n",
    "    plt.xlabel(classes[y[index]])"
   ]
  },
  {
   "cell_type": "code",
   "execution_count": 11,
   "id": "1b582ae0",
   "metadata": {},
   "outputs": [
    {
     "data": {
      "image/png": "[encoded data removed]",
      "text/plain": [
       "<Figure size 1500x200 with 1 Axes>"
      ]
     },
     "metadata": {},
     "output_type": "display_data"
    }
   ],
   "source": [
    "plot_sample(X_train, y_train, 1)"
   ]
  },
  {
   "cell_type": "code",
   "execution_count": 12,
   "id": "0a717cbe",
   "metadata": {},
   "outputs": [
    {
     "data": {
      "image/png": "[encoded data removed]",
      "text/plain": [
       "<Figure size 1500x200 with 1 Axes>"
      ]
     },
     "metadata": {},
     "output_type": "display_data"
    }
   ],
   "source": [
    "plot_sample(X_train, y_train, 3)"
   ]
  },
  {
   "cell_type": "code",
   "execution_count": 13,
   "id": "9d02b305",
   "metadata": {},
   "outputs": [],
   "source": [
    "#Data normalization\n",
    "X_train= X_train/255\n",
    "X_test= X_test/255"
   ]
  },
  {
   "cell_type": "code",
   "execution_count": 14,
   "id": "48b9d11c",
   "metadata": {},
   "outputs": [
    {
     "name": "stdout",
     "output_type": "stream",
     "text": [
      "Epoch 1/5\n",
      "1563/1563 [==============================] - 325s 206ms/step - loss: 1.8119 - accuracy: 0.3547\n",
      "Epoch 2/5\n",
      "1563/1563 [==============================] - 341s 218ms/step - loss: 1.6230 - accuracy: 0.4295\n",
      "Epoch 3/5\n",
      "1563/1563 [==============================] - 333s 213ms/step - loss: 1.5423 - accuracy: 0.4570\n",
      "Epoch 4/5\n",
      "1563/1563 [==============================] - 344s 220ms/step - loss: 1.4827 - accuracy: 0.4799\n",
      "Epoch 5/5\n",
      "1563/1563 [==============================] - 311s 199ms/step - loss: 1.4344 - accuracy: 0.4928\n"
     ]
    },
    {
     "data": {
      "text/plain": [
       "<keras.callbacks.History at 0x21ec2746290>"
      ]
     },
     "execution_count": 14,
     "metadata": {},
     "output_type": "execute_result"
    }
   ],
   "source": [
    "ann = models.Sequential([\n",
    "        layers.Flatten(input_shape=(32,32,3)),\n",
    "        layers.Dense(3000, activation='relu'),\n",
    "        layers.Dense(1000,activation='relu'),\n",
    "        layers.Dense(10, activation='sigmoid')\n",
    "      ])\n",
    "ann.compile(optimizer= 'SGD',\n",
    "              loss='sparse_categorical_crossentropy',\n",
    "              metrics=['accuracy'])\n",
    "ann.fit(X_train, y_train, epochs=5)"
   ]
  },
  {
   "cell_type": "code",
   "execution_count": 15,
   "id": "d18ce3a5",
   "metadata": {},
   "outputs": [
    {
     "name": "stdout",
     "output_type": "stream",
     "text": [
      "313/313 [==============================] - 25s 77ms/step - loss: 1.5377 - accuracy: 0.4503\n"
     ]
    },
    {
     "data": {
      "text/plain": [
       "[1.5377376079559326, 0.450300008058548]"
      ]
     },
     "execution_count": 15,
     "metadata": {},
     "output_type": "execute_result"
    }
   ],
   "source": [
    "#the accuracy of this model is low\n",
    "#therefore \n",
    "ann.evaluate(X_test, y_test)"
   ]
  },
  {
   "cell_type": "code",
   "execution_count": 18,
   "id": "544e7391",
   "metadata": {},
   "outputs": [
    {
     "name": "stdout",
     "output_type": "stream",
     "text": [
      "313/313 [==============================] - 12s 38ms/step\n",
      "Classification report:/n               precision    recall  f1-score   support\n",
      "\n",
      "           0       0.49      0.49      0.49      1000\n",
      "           1       0.74      0.37      0.49      1000\n",
      "           2       0.39      0.22      0.28      1000\n",
      "           3       0.40      0.17      0.24      1000\n",
      "           4       0.36      0.47      0.41      1000\n",
      "           5       0.46      0.29      0.36      1000\n",
      "           6       0.34      0.82      0.48      1000\n",
      "           7       0.59      0.48      0.53      1000\n",
      "           8       0.46      0.76      0.57      1000\n",
      "           9       0.63      0.44      0.52      1000\n",
      "\n",
      "    accuracy                           0.45     10000\n",
      "   macro avg       0.49      0.45      0.44     10000\n",
      "weighted avg       0.49      0.45      0.44     10000\n",
      "\n"
     ]
    }
   ],
   "source": [
    "#classification report\n",
    "from sklearn.metrics import confusion_matrix, classification_report\n",
    "import numpy as np\n",
    "y_pred=ann.predict(X_test)\n",
    "y_pred_classes=[np.argmax(element) for element in y_pred]\n",
    "print (\"Classification report:/n\", classification_report(y_test, y_pred_classes))"
   ]
  },
  {
   "cell_type": "code",
   "execution_count": 22,
   "id": "30270de2",
   "metadata": {},
   "outputs": [],
   "source": [
    "#CNN: to improve the model's accuracy using convolutions addition\n",
    "#Kernel=3 by 3 filter\n",
    "cnn = models.Sequential([\n",
    "        #cnn\n",
    "        #dense\n",
    "        layers.Conv2D(filters=32, kernel_size= (3,3), activation= 'relu', input_shape=(32,32, 3)), \n",
    "        layers.MaxPooling2D((2,2)),\n",
    "    \n",
    "        layers.Conv2D(filters=64, kernel_size= (3,3), activation= 'relu'), \n",
    "        layers.MaxPooling2D((2,2)),\n",
    "    \n",
    "        layers.Flatten(),\n",
    "        layers.Dense(64, activation='relu'),\n",
    "        layers.Dense(10,activation='softmax')\n",
    "    ])"
   ]
  },
  {
   "cell_type": "code",
   "execution_count": 23,
   "id": "df82b9d2",
   "metadata": {},
   "outputs": [],
   "source": [
    "cnn.compile(optimizer= 'adam',\n",
    "              loss='sparse_categorical_crossentropy',\n",
    "              metrics=['accuracy'])"
   ]
  },
  {
   "cell_type": "code",
   "execution_count": 24,
   "id": "a48ff6ef",
   "metadata": {},
   "outputs": [
    {
     "name": "stdout",
     "output_type": "stream",
     "text": [
      "Epoch 1/10\n",
      "1563/1563 [==============================] - 150s 94ms/step - loss: 1.4751 - accuracy: 0.4699\n",
      "Epoch 2/10\n",
      "1563/1563 [==============================] - 131s 84ms/step - loss: 1.1038 - accuracy: 0.6140\n",
      "Epoch 3/10\n",
      "1563/1563 [==============================] - 145s 93ms/step - loss: 0.9704 - accuracy: 0.6628\n",
      "Epoch 4/10\n",
      "1563/1563 [==============================] - 113s 72ms/step - loss: 0.8853 - accuracy: 0.6935\n",
      "Epoch 5/10\n",
      "1563/1563 [==============================] - 150s 96ms/step - loss: 0.8188 - accuracy: 0.7178\n",
      "Epoch 6/10\n",
      "1563/1563 [==============================] - 159s 101ms/step - loss: 0.7626 - accuracy: 0.7353\n",
      "Epoch 7/10\n",
      "1563/1563 [==============================] - 161s 103ms/step - loss: 0.7153 - accuracy: 0.7522\n",
      "Epoch 8/10\n",
      "1563/1563 [==============================] - 167s 107ms/step - loss: 0.6765 - accuracy: 0.7656\n",
      "Epoch 9/10\n",
      "1563/1563 [==============================] - 177s 114ms/step - loss: 0.6357 - accuracy: 0.7789\n",
      "Epoch 10/10\n",
      "1563/1563 [==============================] - 113s 72ms/step - loss: 0.5988 - accuracy: 0.7914\n"
     ]
    },
    {
     "data": {
      "text/plain": [
       "<keras.callbacks.History at 0x21ebaf3fbe0>"
      ]
     },
     "execution_count": 24,
     "metadata": {},
     "output_type": "execute_result"
    }
   ],
   "source": [
    "cnn.fit(X_train, y_train, epochs=10)"
   ]
  },
  {
   "cell_type": "code",
   "execution_count": 26,
   "id": "15f0a169",
   "metadata": {},
   "outputs": [
    {
     "name": "stdout",
     "output_type": "stream",
     "text": [
      "313/313 [==============================] - 7s 20ms/step - loss: 0.9190 - accuracy: 0.7028\n"
     ]
    },
    {
     "data": {
      "text/plain": [
       "[0.9190314412117004, 0.7027999758720398]"
      ]
     },
     "execution_count": 26,
     "metadata": {},
     "output_type": "execute_result"
    }
   ],
   "source": [
    "cnn.evaluate (X_test, y_test)"
   ]
  },
  {
   "cell_type": "code",
   "execution_count": 27,
   "id": "c35ecde6",
   "metadata": {},
   "outputs": [
    {
     "data": {
      "text/plain": [
       "array([[3],\n",
       "       [8],\n",
       "       [8],\n",
       "       [0],\n",
       "       [6]], dtype=uint8)"
      ]
     },
     "execution_count": 27,
     "metadata": {},
     "output_type": "execute_result"
    }
   ],
   "source": [
    "y_test[:5]"
   ]
  },
  {
   "cell_type": "code",
   "execution_count": 28,
   "id": "b9ea7333",
   "metadata": {},
   "outputs": [
    {
     "data": {
      "text/plain": [
       "array([3, 8, 8, 0, 6], dtype=uint8)"
      ]
     },
     "execution_count": 28,
     "metadata": {},
     "output_type": "execute_result"
    }
   ],
   "source": [
    "#conversion into 1 dimension array\n",
    "y_test= y_test.reshape(-1)\n",
    "y_test[:5]"
   ]
  },
  {
   "cell_type": "code",
   "execution_count": 29,
   "id": "d530a7a1",
   "metadata": {},
   "outputs": [
    {
     "data": {
      "image/png": "[encoded data removed]",
      "text/plain": [
       "<Figure size 1500x200 with 1 Axes>"
      ]
     },
     "metadata": {},
     "output_type": "display_data"
    }
   ],
   "source": [
    "plot_sample (X_test, y_test, 1)"
   ]
  },
  {
   "cell_type": "code",
   "execution_count": 30,
   "id": "9851f453",
   "metadata": {},
   "outputs": [
    {
     "name": "stdout",
     "output_type": "stream",
     "text": [
      "313/313 [==============================] - 6s 19ms/step\n"
     ]
    },
    {
     "data": {
      "text/plain": [
       "array([[7.47095619e-04, 6.15390090e-05, 1.13660214e-03, 9.11563039e-01,\n",
       "        2.55104678e-04, 4.94186543e-02, 3.33311185e-02, 2.39836845e-06,\n",
       "        2.77785212e-03, 7.06528604e-04],\n",
       "       [6.09162124e-03, 9.10012517e-03, 1.24240914e-05, 7.07846993e-07,\n",
       "        6.04707440e-09, 1.28221289e-09, 1.47383270e-08, 1.11937959e-09,\n",
       "        9.84518528e-01, 2.76490784e-04],\n",
       "       [3.96349877e-02, 2.12151315e-02, 6.97125506e-04, 3.69527843e-03,\n",
       "        1.38079107e-03, 8.16211628e-04, 1.00873341e-03, 1.59773248e-04,\n",
       "        9.28848982e-01, 2.54299585e-03],\n",
       "       [9.59881425e-01, 8.38758191e-04, 9.20931716e-03, 9.90357832e-04,\n",
       "        1.38154719e-03, 5.53344171e-06, 1.75823167e-04, 9.05991419e-06,\n",
       "        2.74982043e-02, 9.88278862e-06],\n",
       "       [1.12942089e-05, 9.14561824e-05, 4.24815938e-02, 1.14173889e-01,\n",
       "        6.54282123e-02, 3.69899836e-03, 7.73930132e-01, 2.76183364e-05,\n",
       "        4.63657743e-05, 1.10362154e-04]], dtype=float32)"
      ]
     },
     "execution_count": 30,
     "metadata": {},
     "output_type": "execute_result"
    }
   ],
   "source": [
    "y_pred=cnn.predict(X_test)\n",
    "y_pred[:5]"
   ]
  },
  {
   "cell_type": "code",
   "execution_count": 31,
   "id": "aa405fa7",
   "metadata": {},
   "outputs": [],
   "source": [
    "#np.argmax([5,12,167,2])"
   ]
  },
  {
   "cell_type": "code",
   "execution_count": 32,
   "id": "bbd82d99",
   "metadata": {},
   "outputs": [],
   "source": [
    "#np.argmax(y_pred[0])"
   ]
  },
  {
   "cell_type": "code",
   "execution_count": 33,
   "id": "62f6afe7",
   "metadata": {},
   "outputs": [
    {
     "data": {
      "text/plain": [
       "2"
      ]
     },
     "execution_count": 33,
     "metadata": {},
     "output_type": "execute_result"
    }
   ],
   "source": [
    "np.argmax([5,12,167,2])"
   ]
  },
  {
   "cell_type": "code",
   "execution_count": 34,
   "id": "c5e51ea0",
   "metadata": {},
   "outputs": [
    {
     "data": {
      "text/plain": [
       "[3, 8, 8, 0, 6]"
      ]
     },
     "execution_count": 34,
     "metadata": {},
     "output_type": "execute_result"
    }
   ],
   "source": [
    "y_classes=[np.argmax(element) for element in y_pred]\n",
    "y_classes[:5]"
   ]
  },
  {
   "cell_type": "code",
   "execution_count": 35,
   "id": "2cd6b662",
   "metadata": {},
   "outputs": [
    {
     "data": {
      "text/plain": [
       "array([3, 8, 8, 0, 6], dtype=uint8)"
      ]
     },
     "execution_count": 35,
     "metadata": {},
     "output_type": "execute_result"
    }
   ],
   "source": [
    "y_test[:5]"
   ]
  },
  {
   "cell_type": "code",
   "execution_count": 36,
   "id": "8fe7cc1f",
   "metadata": {},
   "outputs": [
    {
     "data": {
      "image/png": "[encoded data removed]",
      "text/plain": [
       "<Figure size 1500x200 with 1 Axes>"
      ]
     },
     "metadata": {},
     "output_type": "display_data"
    }
   ],
   "source": [
    "plot_sample (X_test, y_test, 1)"
   ]
  },
  {
   "cell_type": "code",
   "execution_count": 37,
   "id": "ede9b009",
   "metadata": {},
   "outputs": [
    {
     "data": {
      "text/plain": [
       "'ship'"
      ]
     },
     "execution_count": 37,
     "metadata": {},
     "output_type": "execute_result"
    }
   ],
   "source": [
    "classes[y_classes[1]]"
   ]
  },
  {
   "cell_type": "code",
   "execution_count": 38,
   "id": "a11e6e0a",
   "metadata": {},
   "outputs": [
    {
     "data": {
      "image/png": "[encoded data removed]",
      "text/plain": [
       "<Figure size 1500x200 with 1 Axes>"
      ]
     },
     "metadata": {},
     "output_type": "display_data"
    }
   ],
   "source": [
    "plot_sample (X_test, y_test, 2 )"
   ]
  },
  {
   "cell_type": "code",
   "execution_count": 39,
   "id": "321b30b5",
   "metadata": {},
   "outputs": [
    {
     "data": {
      "text/plain": [
       "'ship'"
      ]
     },
     "execution_count": 39,
     "metadata": {},
     "output_type": "execute_result"
    }
   ],
   "source": [
    "classes[y_classes[2]]"
   ]
  },
  {
   "cell_type": "code",
   "execution_count": null,
   "id": "63f836e2",
   "metadata": {},
   "outputs": [],
   "source": []
  },
  {
   "cell_type": "code",
   "execution_count": null,
   "id": "1346dfef",
   "metadata": {},
   "outputs": [],
   "source": []
  }
 ],
 "metadata": {
  "kernelspec": {
   "display_name": "Python 3 (ipykernel)",
   "language": "python",
   "name": "python3"
  },
  "language_info": {
   "codemirror_mode": {
    "name": "ipython",
    "version": 3
   },
   "file_extension": ".py",
   "mimetype": "text/x-python",
   "name": "python",
   "nbconvert_exporter": "python",
   "pygments_lexer": "ipython3",
   "version": "3.10.9"
  }
 },
 "nbformat": 4,
 "nbformat_minor": 5
}
